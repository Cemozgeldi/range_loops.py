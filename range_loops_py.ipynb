{
  "nbformat": 4,
  "nbformat_minor": 0,
  "metadata": {
    "colab": {
      "name": "range_loops.py",
      "provenance": [],
      "authorship_tag": "ABX9TyNEsijyqHCKCfRfv6c56w0S",
      "include_colab_link": true
    },
    "kernelspec": {
      "name": "python3",
      "display_name": "Python 3"
    },
    "language_info": {
      "name": "python"
    }
  },
  "cells": [
    {
      "cell_type": "markdown",
      "metadata": {
        "id": "view-in-github",
        "colab_type": "text"
      },
      "source": [
        "<a href=\"https://colab.research.google.com/github/Cemozgeldi/range_loops.py/blob/main/range_loops_py.ipynb\" target=\"_parent\"><img src=\"https://colab.research.google.com/assets/colab-badge.svg\" alt=\"Open In Colab\"/></a>"
      ]
    },
    {
      "cell_type": "code",
      "execution_count": 1,
      "metadata": {
        "colab": {
          "base_uri": "https://localhost:8080/"
        },
        "id": "fVzylwzLuCrG",
        "outputId": "938e47c9-0804-402b-a787-6ad4130dcd7c"
      },
      "outputs": [
        {
          "output_type": "execute_result",
          "data": {
            "text/plain": [
              "[0, 1, 2, 3, 4, 5, 6, 7, 8, 9, 10, 11, 12, 13, 14]"
            ]
          },
          "metadata": {},
          "execution_count": 1
        }
      ],
      "source": [
        "list(range(15))"
      ]
    },
    {
      "cell_type": "code",
      "source": [
        "print(* range(55))"
      ],
      "metadata": {
        "colab": {
          "base_uri": "https://localhost:8080/"
        },
        "id": "N3d1ciSMuG85",
        "outputId": "3a15e3fe-9b22-446d-a123-7f77cb18ffb2"
      },
      "execution_count": 2,
      "outputs": [
        {
          "output_type": "stream",
          "name": "stdout",
          "text": [
            "0 1 2 3 4 5 6 7 8 9 10 11 12 13 14 15 16 17 18 19 20 21 22 23 24 25 26 27 28 29 30 31 32 33 34 35 36 37 38 39 40 41 42 43 44 45 46 47 48 49 50 51 52 53 54\n"
          ]
        }
      ]
    },
    {
      "cell_type": "code",
      "source": [
        "for i in range(20) :\n",
        "  print(i, end = \" \")"
      ],
      "metadata": {
        "colab": {
          "base_uri": "https://localhost:8080/"
        },
        "id": "wFxgqPK4uLH1",
        "outputId": "e915c7bc-7428-471e-8060-ff8366c9d507"
      },
      "execution_count": 3,
      "outputs": [
        {
          "output_type": "stream",
          "name": "stdout",
          "text": [
            "0 1 2 3 4 5 6 7 8 9 10 11 12 13 14 15 16 17 18 19 "
          ]
        }
      ]
    },
    {
      "cell_type": "code",
      "source": [
        "#simple syntax of a while loop:\n",
        "#while condition:\n",
        "  #body "
      ],
      "metadata": {
        "id": "CLjl-EaAutU3"
      },
      "execution_count": 4,
      "outputs": []
    },
    {
      "cell_type": "code",
      "source": [
        "while 0:\n",
        "  print(\"sıfır\")"
      ],
      "metadata": {
        "id": "6kLT0NYlw9lY"
      },
      "execution_count": 5,
      "outputs": []
    },
    {
      "cell_type": "code",
      "source": [
        "number = 0\n",
        "\n",
        "while number < 6:\n",
        "  print(number)\n",
        "  number += 1\n",
        "print('now,number is bigger or equal to 6') #numberı sayaç gibi kullandık."
      ],
      "metadata": {
        "colab": {
          "base_uri": "https://localhost:8080/"
        },
        "id": "qyLPG_EJxO0m",
        "outputId": "8283b364-455b-42b7-9c20-a3f523b94381"
      },
      "execution_count": 9,
      "outputs": [
        {
          "output_type": "stream",
          "name": "stdout",
          "text": [
            "0\n",
            "1\n",
            "2\n",
            "3\n",
            "4\n",
            "5\n",
            "now,number is bigger or equal to 6\n"
          ]
        }
      ]
    },
    {
      "cell_type": "code",
      "source": [
        "number = 0\n",
        "\n",
        "while number < 6:\n",
        "  number += 1\n",
        "  print(number)\n",
        "print('now,number is bigger or equal to 6') #yanlış kullanım."
      ],
      "metadata": {
        "colab": {
          "base_uri": "https://localhost:8080/"
        },
        "id": "gFKxzSCUx9Ao",
        "outputId": "1c19b818-fb3d-4a98-e7eb-91fc2c66a7fa"
      },
      "execution_count": 8,
      "outputs": [
        {
          "output_type": "stream",
          "name": "stdout",
          "text": [
            "1\n",
            "2\n",
            "3\n",
            "4\n",
            "5\n",
            "6\n",
            "now,number is bigger or equal to 6\n"
          ]
        }
      ]
    },
    {
      "cell_type": "code",
      "source": [
        "condition = 5\n",
        "\n",
        "while condition:\n",
        "  print(condition)\n",
        "  condition -= 1\n",
        "\n",
        "condition = 0\n",
        "print(\"now,number is equal to zero\")"
      ],
      "metadata": {
        "colab": {
          "base_uri": "https://localhost:8080/"
        },
        "id": "hljq14wvzJeK",
        "outputId": "144ec86c-5b83-405c-a9d8-5007d4ec01fd"
      },
      "execution_count": 13,
      "outputs": [
        {
          "output_type": "stream",
          "name": "stdout",
          "text": [
            "5\n",
            "4\n",
            "3\n",
            "2\n",
            "1\n",
            "now,number is equal to zero\n"
          ]
        }
      ]
    },
    {
      "cell_type": "code",
      "source": [
        "condition = 5\n",
        "\n",
        "while True :\n",
        "  print(condition)\n",
        "  condition -=1\n",
        "\n",
        "  if condition == 0:\n",
        "    break"
      ],
      "metadata": {
        "colab": {
          "base_uri": "https://localhost:8080/"
        },
        "id": "2VDtdUKXz3Bb",
        "outputId": "42be4ef0-6796-4a79-da4c-b4f70e33cda5"
      },
      "execution_count": 15,
      "outputs": [
        {
          "output_type": "stream",
          "name": "stdout",
          "text": [
            "5\n",
            "4\n",
            "3\n",
            "2\n",
            "1\n"
          ]
        }
      ]
    },
    {
      "cell_type": "code",
      "source": [
        "my_list=[\"a\", \"b\", \"c\", \"d\", \"e\"]\n",
        "\n",
        "a = 0\n",
        "while a < len(my_list):\n",
        "  print('square of {} is : {}'.format(a, a**2))\n",
        "  a += 1"
      ],
      "metadata": {
        "colab": {
          "base_uri": "https://localhost:8080/"
        },
        "id": "DK-ATUKj0KWL",
        "outputId": "48705eb5-c5e5-44f5-bdb2-c18c25908341"
      },
      "execution_count": 16,
      "outputs": [
        {
          "output_type": "stream",
          "name": "stdout",
          "text": [
            "square of 0 is : 0\n",
            "square of 1 is : 1\n",
            "square of 2 is : 4\n",
            "square of 3 is : 9\n",
            "square of 4 is : 16\n"
          ]
        }
      ]
    },
    {
      "cell_type": "code",
      "source": [
        "print(int(input(\"What is your age?\")))"
      ],
      "metadata": {
        "colab": {
          "base_uri": "https://localhost:8080/"
        },
        "id": "HrA_7aAP0KZm",
        "outputId": "b65854ef-d7ef-4e82-f201-4002586fac37"
      },
      "execution_count": 17,
      "outputs": [
        {
          "output_type": "stream",
          "name": "stdout",
          "text": [
            "What is your age?18\n",
            "18\n"
          ]
        }
      ]
    },
    {
      "cell_type": "code",
      "source": [
        "age = input(\"Enter your age :\")\n",
        "\n",
        "while not age.isdigit():\n",
        "  \n",
        "  print(\"You entered incorrectly!\")\n",
        "  age = input(\"Enter your age :\")\n",
        "\n",
        "print(\"Great! You entered valid input and your age is : \", age)"
      ],
      "metadata": {
        "colab": {
          "base_uri": "https://localhost:8080/"
        },
        "id": "844GaQ-N0KcN",
        "outputId": "170885c7-0987-4d22-ea96-6db7f1ee13b7"
      },
      "execution_count": 32,
      "outputs": [
        {
          "output_type": "stream",
          "name": "stdout",
          "text": [
            "Enter your age :kırkdört\n",
            "You entered incorrectly!\n",
            "Enter your age :yirmi\n",
            "You entered incorrectly!\n",
            "Enter your age :18\n",
            "Great! You entered valid input and your age is :  18\n"
          ]
        }
      ]
    },
    {
      "cell_type": "code",
      "source": [
        "print(\"Let's start play the guessing game!\")\n",
        "\n",
        "answer = 30\n",
        "while True :\n",
        "    guess = int(input(\"What a two digit number am I thinking of? \"))\n",
        "    \n",
        "    if guess < answer :\n",
        "        print(\"Little higher..\")\n",
        "    elif guess > answer :\n",
        "        print(\"Little lower..\")\n",
        "    else :\n",
        "        print(\"Are you a MINDREADER?\")\n",
        "        break"
      ],
      "metadata": {
        "colab": {
          "base_uri": "https://localhost:8080/"
        },
        "id": "WDXRDiCN0Kj8",
        "outputId": "13ad3527-59c7-4cbe-d032-b6cd29b51a4c"
      },
      "execution_count": 33,
      "outputs": [
        {
          "output_type": "stream",
          "name": "stdout",
          "text": [
            "Let's start play the guessing game!\n",
            "What a two digit number am I thinking of? 20\n",
            "Little higher..\n",
            "What a two digit number am I thinking of? 25\n",
            "Little higher..\n",
            "What a two digit number am I thinking of? 99\n",
            "Little lower..\n",
            "What a two digit number am I thinking of? 80\n",
            "Little lower..\n",
            "What a two digit number am I thinking of? 30\n",
            "Are you a MINDREADER\n"
          ]
        }
      ]
    },
    {
      "cell_type": "code",
      "source": [
        "sentence = input(\"Give me a sentence :\")\n",
        "word_list = sentence.split()\n",
        "\n",
        "longest = 0\n",
        "i = 0 #bilmediğimiz bir miktar olduğu için bir değişkene 0 tanımladık.\n",
        "while i < len(word_list):\n",
        "  if len(word_list[i]) > longest: #index belirlemek için i koyduk.\n",
        "    longest = len(word_list[i])\n",
        "\n",
        "  i += 1\n",
        "print(\"The length of the longest word :\", longest)    "
      ],
      "metadata": {
        "colab": {
          "base_uri": "https://localhost:8080/"
        },
        "id": "4Dz2ZvYO0Kme",
        "outputId": "0701212c-d6e6-48bc-9cdb-81a7985f1d21"
      },
      "execution_count": 52,
      "outputs": [
        {
          "output_type": "stream",
          "name": "stdout",
          "text": [
            "Give me a sentence :Ne Mutlu Türküm Diyene\n",
            "The length of the longest word : 6\n"
          ]
        }
      ]
    },
    {
      "cell_type": "code",
      "source": [
        "#The simple syntax of a FOR loop is:\n",
        "  #for (variable) IN (iterable):\n",
        "    #body"
      ],
      "metadata": {
        "id": "z8YskacU0Kq5"
      },
      "execution_count": 53,
      "outputs": []
    },
    {
      "cell_type": "code",
      "source": [
        "for i in [1, 2, 3, 4, 5] :\n",
        "  print(i)"
      ],
      "metadata": {
        "colab": {
          "base_uri": "https://localhost:8080/"
        },
        "id": "DRfnUohK0K1d",
        "outputId": "d64ad3bf-3100-413f-9173-61358439499a"
      },
      "execution_count": 54,
      "outputs": [
        {
          "output_type": "stream",
          "name": "stdout",
          "text": [
            "1\n",
            "2\n",
            "3\n",
            "4\n",
            "5\n"
          ]
        }
      ]
    },
    {
      "cell_type": "code",
      "source": [
        "benim_listem = [\"ali\", \"veli\", \"deli\"]"
      ],
      "metadata": {
        "id": "60Io2o280K4S"
      },
      "execution_count": 55,
      "outputs": []
    },
    {
      "cell_type": "code",
      "source": [
        "for i in benim_listem:\n",
        "  print(i) #indexlemek yerine bu şekilde listenin elemanlarını tek seferde alabiliriz."
      ],
      "metadata": {
        "colab": {
          "base_uri": "https://localhost:8080/"
        },
        "id": "TfEUwl6K0K7k",
        "outputId": "cc0328c5-73e5-4a1d-a6aa-4b368cf4ad28"
      },
      "execution_count": 58,
      "outputs": [
        {
          "output_type": "stream",
          "name": "stdout",
          "text": [
            "ali\n",
            "veli\n",
            "deli\n"
          ]
        }
      ]
    },
    {
      "cell_type": "code",
      "source": [
        "seasons = ['spring', 'summer', 'autumn', 'winter']\n",
        "\n",
        "for season in seasons:\n",
        "  print(season)"
      ],
      "metadata": {
        "colab": {
          "base_uri": "https://localhost:8080/"
        },
        "id": "OHXbbetQ0K-Q",
        "outputId": "f3044f08-acac-4cde-89ff-075938e5d279"
      },
      "execution_count": 59,
      "outputs": [
        {
          "output_type": "stream",
          "name": "stdout",
          "text": [
            "spring\n",
            "summer\n",
            "autumn\n",
            "winter\n"
          ]
        }
      ]
    },
    {
      "cell_type": "code",
      "source": [
        "type(season)"
      ],
      "metadata": {
        "colab": {
          "base_uri": "https://localhost:8080/"
        },
        "id": "2H63oHJ-0LBA",
        "outputId": "dd66efc3-553a-4d55-b923-467e9e4ffba5"
      },
      "execution_count": 61,
      "outputs": [
        {
          "output_type": "execute_result",
          "data": {
            "text/plain": [
              "str"
            ]
          },
          "metadata": {},
          "execution_count": 61
        }
      ]
    },
    {
      "cell_type": "code",
      "source": [
        "names = [\"Ahmed\", \"Aisha\", \"Adam\", \"Joseph\", \"Gabriel\"] \n",
        "\n",
        "for i in names:\n",
        "  print(\"hello\", i)"
      ],
      "metadata": {
        "colab": {
          "base_uri": "https://localhost:8080/"
        },
        "id": "aTfecP8HOP6x",
        "outputId": "e158d3f1-4ac4-4b54-c003-17aef2fd8c98"
      },
      "execution_count": 65,
      "outputs": [
        {
          "output_type": "stream",
          "name": "stdout",
          "text": [
            "hello Ahmed\n",
            "hello Aisha\n",
            "hello Adam\n",
            "hello Joseph\n",
            "hello Gabriel\n"
          ]
        }
      ]
    },
    {
      "cell_type": "code",
      "source": [
        ""
      ],
      "metadata": {
        "colab": {
          "base_uri": "https://localhost:8080/",
          "height": 169
        },
        "id": "P2tkpz_gSJHP",
        "outputId": "3f9a2d4e-5f6b-488d-d979-786a00f17798"
      },
      "execution_count": 74,
      "outputs": [
        {
          "output_type": "error",
          "ename": "TypeError",
          "evalue": "ignored",
          "traceback": [
            "\u001b[0;31m---------------------------------------------------------------------------\u001b[0m",
            "\u001b[0;31mTypeError\u001b[0m                                 Traceback (most recent call last)",
            "\u001b[0;32m<ipython-input-74-952daf3dc838>\u001b[0m in \u001b[0;36m<module>\u001b[0;34m()\u001b[0m\n\u001b[0;32m----> 1\u001b[0;31m \u001b[0mlistem\u001b[0m \u001b[0;34m=\u001b[0m \u001b[0mrange\u001b[0m\u001b[0;34m[\u001b[0m\u001b[0;36m1\u001b[0m\u001b[0;34m,\u001b[0m\u001b[0;36m6\u001b[0m\u001b[0;34m]\u001b[0m\u001b[0;34m\u001b[0m\u001b[0;34m\u001b[0m\u001b[0m\n\u001b[0m",
            "\u001b[0;31mTypeError\u001b[0m: 'type' object is not subscriptable"
          ]
        }
      ]
    },
    {
      "cell_type": "code",
      "source": [
        "listem"
      ],
      "metadata": {
        "colab": {
          "base_uri": "https://localhost:8080/"
        },
        "id": "jCX-ZNtCUEun",
        "outputId": "f807e73f-6363-4422-ceb9-ae20cc7ae573"
      },
      "execution_count": 73,
      "outputs": [
        {
          "output_type": "execute_result",
          "data": {
            "text/plain": [
              "range(1, 6)"
            ]
          },
          "metadata": {},
          "execution_count": 73
        }
      ]
    },
    {
      "cell_type": "code",
      "source": [
        "numbers = []\n",
        "for i in range(1,6):\n",
        "  numbers.append(i)\n",
        "  print(numbers)"
      ],
      "metadata": {
        "colab": {
          "base_uri": "https://localhost:8080/"
        },
        "id": "igPULj_vUFpX",
        "outputId": "10adbab7-040f-44b6-fcfd-850e830b5ee2"
      },
      "execution_count": 86,
      "outputs": [
        {
          "output_type": "stream",
          "name": "stdout",
          "text": [
            "[1]\n",
            "[1, 2]\n",
            "[1, 2, 3]\n",
            "[1, 2, 3, 4]\n",
            "[1, 2, 3, 4, 5]\n"
          ]
        }
      ]
    },
    {
      "cell_type": "code",
      "source": [
        "numbers"
      ],
      "metadata": {
        "colab": {
          "base_uri": "https://localhost:8080/"
        },
        "id": "T_iizdyrUX3a",
        "outputId": "f2daba8c-947a-4de6-9c2a-26382e33f2a1"
      },
      "execution_count": 84,
      "outputs": [
        {
          "output_type": "execute_result",
          "data": {
            "text/plain": [
              "[1, 2, 3, 4, 5]"
            ]
          },
          "metadata": {},
          "execution_count": 84
        }
      ]
    },
    {
      "cell_type": "code",
      "source": [
        "clrswy = list(\"Clarusway\")\n",
        "for i in clrswy:\n",
        "    if i == clrswy[-1]:\n",
        "        print(i)\n",
        "    else:\n",
        "        print(i, sep = \"-\", end = \"-\")"
      ],
      "metadata": {
        "colab": {
          "base_uri": "https://localhost:8080/"
        },
        "id": "pZ4_8i3oU9K0",
        "outputId": "a1df1e19-5259-4dea-fb57-a6d45f936907"
      },
      "execution_count": 96,
      "outputs": [
        {
          "output_type": "stream",
          "name": "stdout",
          "text": [
            "C-l-a-r-u-s-w-a-y\n"
          ]
        }
      ]
    },
    {
      "cell_type": "code",
      "source": [
        ""
      ],
      "metadata": {
        "id": "wB6qSjK-Vvim"
      },
      "execution_count": null,
      "outputs": []
    }
  ]
}